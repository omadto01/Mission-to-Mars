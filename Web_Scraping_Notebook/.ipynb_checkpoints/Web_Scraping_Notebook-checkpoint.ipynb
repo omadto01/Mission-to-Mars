{
 "cells": [
  {
   "cell_type": "markdown",
   "metadata": {},
   "source": [
    "# A1 - Student Turn -- Mongo"
   ]
  },
  {
   "cell_type": "markdown",
   "metadata": {},
   "source": [
    "# Mongo Class\n",
    "\n",
    "## Instructions\n",
    "\n",
    "* Use the command line to create a `ClassDB` database\n",
    "\n",
    "* Insert entries into this database for yourself and the people around you within a collection called `students`\n",
    "\n",
    "* Each document should have a field of `name` with the person's name, a field of `favoriteLibrary` for the person's favorite Python library, a field of `age` for the person's age, and a field of `hobbies` which will hold a list of that person's hobbies.\n",
    "\n",
    "* Use the `find()` commands to get a list of everyone of a specific age before using `name` to collect the entry for a single person."
   ]
  },
  {
   "cell_type": "markdown",
   "metadata": {},
   "source": [
    "# Mongo Class\n",
    "\n",
    "## A. Use the command line to create a classDB database.\n",
    "\n",
    "* Insert entries for yourself and the people in your row in a classroom collection. Each document should have:\n",
    "\n",
    "1. A field of name with the person's name.\n",
    "2. A field of the person's favorite Python library, e.g. pandas.\n",
    "3. A field of a list of the person's hobbies .\n",
    "\n",
    "## Example:\n",
    "\n",
    "```\n",
    "use classDB\n",
    "\n",
    "db.classroom.insert({name: 'Mariah', age: 23, favorite_python_library: 'Seaborn', hobbies: ['Coding', 'Reading', 'Running']})\n",
    "\n",
    "db.classroom.insert({name: 'Ricky', age: 34, favorite_python_library: 'Matplotlib', hobbies: ['Not Coding', 'Not Reading', 'Not Running', 'Guitar']})\n",
    "\n",
    "db.classroom.insert({name: 'Srikanth', age: 28, favorite_python_library: 'Pandas', hobbies: ['Netflix', 'Guitar', 'Traveling']})\n",
    "```\n",
    "\n",
    "## B. Use find commands to get:\n",
    "\n",
    "1. A list of everyone of a certain age.\n",
    "\n",
    "\n",
    "```\n",
    "db.classroom.find({age: 23}).pretty()\n",
    "```\n",
    "\n",
    "2. An entry for a single person.\n",
    "\n",
    "\n",
    "```\n",
    "db.classroom.find({name: 'Ricky'}).pretty()\n",
    "```"
   ]
  },
  {
   "cell_type": "code",
   "execution_count": null,
   "metadata": {},
   "outputs": [],
   "source": []
  },
  {
   "cell_type": "code",
   "execution_count": null,
   "metadata": {},
   "outputs": [],
   "source": []
  },
  {
   "cell_type": "markdown",
   "metadata": {},
   "source": [
    "# A2 - Student Turn -- DumpsterDB\n",
    "\n",
    "\n",
    "\n",
    "\n"
   ]
  },
  {
   "cell_type": "markdown",
   "metadata": {},
   "source": [
    "# Dumpster DB\n",
    "\n",
    "## Instructions\n",
    "\n",
    "* Create and use a new database called `Dumpster_DB` using the Mongo shell.\n",
    "\n",
    "* Create a collection called `divers` which will contain a string field for `name`, an integer field for `yearsDiving`, a boolean field for `stillDiving`, and an array of strings for `bestFinds`.\n",
    "\n",
    "* Insert three new documents into the collection. Be creative with what you put in here and have some fun with it.\n",
    "\n",
    "* Update the `yearsDiving` fields for your documents so that they are one greater than their original values.\n",
    "\n",
    "* Update the `stillDiving` value for one of the documents so that it is now false.\n",
    "\n",
    "* Push a new value into the `bestFinds` array for one of the documents.\n",
    "\n",
    "* Look through the collection, find the diver with the smallest number of `bestFinds`, and remove it from the collection."
   ]
  },
  {
   "cell_type": "markdown",
   "metadata": {},
   "source": [
    "# Dumpster Database\n",
    "\n",
    "* Create and use a database called \"Dumpster_DB\".\n",
    "\n",
    "\n",
    "```\n",
    "use Dumpster_DB\n",
    "```\n",
    "\n",
    "* Create the \"divers\" collection and then insert a couple documents into it\n",
    "\n",
    "\n",
    "```\n",
    "db.divers.insert({\"name\":\"Davey\", \"yearsDiving\":10, \"stillDiving\": true, \"bestFinds\":[\"Flat Screen\", \"Ruby Collar\", \"$100\"]})\n",
    "\n",
    "db.divers.insert({\"name\":\"Jeanie\", \"yearsDiving\":1, \"stillDiving\": true, \"bestFinds\":[\"Movie Theater Chairs\", \"Music Box\"]})\n",
    "\n",
    "db.divers.insert({\"name\":\"Boppo\", \"yearsDiving\":5, \"stillDiving\": true, \"bestFinds\":[\"Half-Eaten Hamburger\", \"Some Goop\"]})\n",
    "```\n",
    "\n",
    "* Update 'yearsDiving' so that it is one year higher for each diver\n",
    "\n",
    "\n",
    "```\n",
    "db.divers.update({\"name\":\"Davey\"},{$set:{\"yearsDiving\":11}})\n",
    "db.divers.update({\"name\":\"Jeanie\"},{$set:{\"yearsDiving\":2}})\n",
    "db.divers.update({\"name\":\"Boppo\"},{$set:{\"yearsDiving\":6}})\n",
    "```\n",
    "\n",
    "* Update 'stillDiving' to False for Davey\n",
    "\n",
    "\n",
    "```\n",
    "db.divers.update({\"name\":\"Davey\"},{$set:{\"stillDiving\": false}})\n",
    "```\n",
    "\n",
    "* Add a new value to Jeanie's \"bestFinds\"\n",
    "\n",
    "\n",
    "```\n",
    "db.divers.update({\"name\":\"Jeanie\"},{$push:{\"bestFinds\":\"Mona Lisa\"}})\n",
    "```\n",
    "\n",
    "* Remove Boppo from the collection\n",
    "\n",
    "\n",
    "```\n",
    "db.divers.remove({\"name\":\"Boppo\"})\n",
    "```"
   ]
  },
  {
   "cell_type": "code",
   "execution_count": null,
   "metadata": {},
   "outputs": [],
   "source": []
  },
  {
   "cell_type": "markdown",
   "metadata": {},
   "source": [
    "# A3 - Instructor Turn -- CrudMongo\n",
    "\n"
   ]
  },
  {
   "cell_type": "markdown",
   "metadata": {},
   "source": [
    "# Update, Delete and Drop in MongoDB\n",
    "\n",
    "* Use the travel_db\n",
    "\n",
    "```shell\n",
    "db\n",
    "use travel_db\n",
    "```\n",
    "\n",
    "* Insert two countries in Africa\n",
    "\n",
    "```shell\n",
    "db.destinations.insert({'country': 'Egypt', 'continent': 'Africa', major_cities: ['Cairo', 'Luxor']})\n",
    "db.destinations.insert({'country': 'Nigeria', 'continent': 'Africa', major_cities: ['Lagos', 'Kano']})\n",
    "```\n",
    "\n",
    "* Show how to update data using `db.[COLLECTION_NAME].update()`\n",
    "\n",
    "```shell\n",
    "db.destinations.update({\"country\": \"Egypt\"}, {$set: {\"continent\": \"Antarctica\"}})\n",
    "```\n",
    "\n",
    "* Note that the above will only update the first entry it matches.\n",
    "\n",
    "* To update multiple entries, you can add `{multi:true}`, all countries listed as being in Africa will now show Antarctica as their continent\n",
    "\n",
    "```shell\n",
    "db.destinations.update({\"continent\": \"Africa\"}, {$set: {\"continent\": \"Antarctica\"}}, {multi: true})\n",
    "```\n",
    "\n",
    "* Alternatively, we can use this syntax to update more than one record.\n",
    "\n",
    "```shell\n",
    "db.destinations.updateMany({\"continent\": \"Africa\"}, {$set: {\"continent\": \"Antarctica\"}})\n",
    "```\n",
    "\n",
    "* Ask the class what they think will happen when you run this command, even though a capital doesn't exist.\n",
    "\n",
    "```shell\n",
    "db.destinations.update({\"country\": \"Morocco\"}, {$set: {\"capital\": \"Rabat\"}})\n",
    "```\n",
    "\n",
    "* Answer: it will add the capital field to the document and show the field can now be updated with the same command.\n",
    "\n",
    "```shell\n",
    "db.destinations.update({\"country\": \"Morocco\"}, {$set: {\"capital\": \"RABAT\"}})\n",
    "```\n",
    "\n",
    "* Show how to push to an array with `$push`.\n",
    "\n",
    "```shell\n",
    "db.destinations.update({\"country\": \"Morocco\"}, {$push: {\"major_cities\": \"Agadir\"}})\n",
    "```\n",
    "\n",
    "* The upsert option updates a document if one exists; it otherwise creates a new document.\n",
    "\n",
    "```shell\n",
    "db.destinations.update({'country': 'Canada'}, {$set: {'capital': 'Ottawa'}}, {upsert: true})\n",
    "```\n",
    "\n",
    "* Show how to delete an entry with `db.[COLLECTION_NAME].remove({justOne: true})`.\n",
    "\n",
    "```shell\n",
    "db.destinations.remove({\"country\": \"Morocco\"}, {justOne: true})\n",
    "```\n",
    "\n",
    "* Show how to empty a collection with `db.[COLLECTION_NAME].remove()`.\n",
    "\n",
    "```shell\n",
    "db.destinations.remove({})\n",
    "```\n",
    "\n",
    "* Show how to drop a collection with `db.[COLLECTION_NAME].drop()`.\n",
    "\n",
    "```shell\n",
    "db.destinations.drop()\n",
    "```\n",
    "\n",
    "* Show how to drop a database\n",
    "\n",
    "```shell\n",
    "db.dropDatabase()\n",
    "```"
   ]
  },
  {
   "cell_type": "markdown",
   "metadata": {},
   "source": [
    "# A4 - Student Turn -- MongGrove\n",
    "\n"
   ]
  },
  {
   "cell_type": "markdown",
   "metadata": {},
   "source": [
    "# Mongo Grove\n",
    "\n",
    "## Instructions\n",
    "\n",
    "* You are the purchaser for the produce department of a large supermarket chain. You decide to use MongoDB to create a database of fruits received from your various suppliers.\n",
    "\n",
    "### Part I\n",
    "\n",
    "* Use Pymongo to create a `fruits_db` database, and a `fruits` collection.\n",
    "\n",
    "* Into that collection, insert two documents of fruit shipments received by your supermarket. They should contain the following information: vendor name, type of fruit, quantity received, and ripeness rating (1 for unripe, 2 for ripe, 3 for over-ripe).\n",
    "\n",
    "### Part II\n",
    "\n",
    "* Because not every supermarket employee is versed in using MongoDB, your task is to build an easy-to-use app that can be run from the console.\n",
    "\n",
    "* Build a Python script that asks the user for the above information, then inserts a document into a MongoDB database.\n",
    "\n",
    "### Part III\n",
    "\n",
    "* It would be good to Modify the app so that when the record is entered, the current date and time is automatically inserted into the document.\n",
    "\n",
    "* Hint: consult the [documentation](https://docs.python.org/3/library/datetime.html) on the `datetime` library."
   ]
  },
  {
   "cell_type": "code",
   "execution_count": null,
   "metadata": {},
   "outputs": [],
   "source": [
    "# Dependencies\n",
    "import pymongo\n",
    "import datetime\n",
    "\n",
    "# The default port used by MongoDB is 27017\n",
    "# https://docs.mongodb.com/manual/reference/default-mongodb-port/\n",
    "conn = 'mongodb://localhost:27017'\n",
    "client = pymongo.MongoClient(conn)\n",
    "\n",
    "# Declare the database\n",
    "db = client.fruits_db\n",
    "\n",
    "# Declare the collection\n",
    "collection = db.fruits_db\n",
    "\n",
    "# Part I\n",
    "# A dictionary that represents the document to be inserted\n",
    "post = {\n",
    "    'vendor': 'fruit star',\n",
    "    'fruit': 'raspberry',\n",
    "    'quantity': 21,\n",
    "    'ripeness': 2,\n",
    "    'date': datetime.datetime.utcnow()\n",
    "}\n",
    "# Insert the document into the database\n",
    "# The database and collection, if they don't already exist, will be created at this point.\n",
    "collection.insert_one(post)\n",
    "\n",
    "# Part II\n",
    "# Ask the user for input. Store information into variables.\n",
    "vendor = input('Vendor name: ')\n",
    "fruit_type = input('Type of fruit: ')\n",
    "quantity = input('Number of boxes received: ')\n",
    "ripeness = input('Ripeness of fruit (1 is unripe; 2 is ripe, 3 is over-ripe: ')\n",
    "\n",
    "# A dictionary that will become a MongoDB document\n",
    "post = {\n",
    "    'vendor': vendor,\n",
    "    'fruit': fruit_type,\n",
    "    'quantity': quantity,\n",
    "    'ripeness': ripeness,\n",
    "    'date': datetime.datetime.utcnow()\n",
    "}\n",
    "\n",
    "# Insert document into collection\n",
    "collection.insert_one(post)\n",
    "\n",
    "\n",
    "# Verify results:\n",
    "results = db.fruits_db.find()\n",
    "for result in results:\n",
    "    print(result)"
   ]
  },
  {
   "cell_type": "code",
   "execution_count": null,
   "metadata": {},
   "outputs": [],
   "source": []
  },
  {
   "cell_type": "markdown",
   "metadata": {},
   "source": [
    "# A5 - Instructor Turn -- PyMongo\n",
    "\n"
   ]
  },
  {
   "cell_type": "code",
   "execution_count": null,
   "metadata": {},
   "outputs": [],
   "source": [
    "# Module used to connect Python with MongoDb\n",
    "import pymongo\n",
    "\n",
    "# The default port used by MongoDB is 27017\n",
    "# https://docs.mongodb.com/manual/reference/default-mongodb-port/\n",
    "conn = 'mongodb://localhost:27017'\n",
    "client = pymongo.MongoClient(conn)\n",
    "\n",
    "# Define the 'classDB' database in Mongo\n",
    "db = client.classDB\n",
    "\n",
    "# Query all students\n",
    "# Here, db.students refers to the collection 'classroom '\n",
    "classroom = db.classroom.find()\n",
    "\n",
    "# Iterate through each student in the collection\n",
    "for student in classroom:\n",
    "    print(student)\n",
    "\n",
    "# Insert a document into the 'students' collection\n",
    "db.classroom.insert_one(\n",
    "    {\n",
    "        'name': 'Ahmed',\n",
    "        'row': 3,\n",
    "        'favorite_python_library': 'Matplotlib',\n",
    "        'hobbies': ['Running', 'Stargazing', 'Reading']\n",
    "    }\n",
    ")\n",
    "\n",
    "# Update a document\n",
    "db.classroom.update_one(\n",
    "    {'name': 'Ahmed'},\n",
    "    {'$set':\n",
    "        {'row': 4}\n",
    "     }\n",
    ")\n",
    "\n",
    "# Add an item to a document array\n",
    "db.classroom.update_one(\n",
    "    {'name': 'Ahmed'},\n",
    "    {'$push':\n",
    "        {'hobbies': 'Listening to country music'}\n",
    "     }\n",
    ")\n",
    "\n",
    "# Delete a field from a document\n",
    "db.classroom.update_one({'name': 'Ahmed'},\n",
    "                        {'$unset':\n",
    "                         {'gavecandy': \"\"}\n",
    "                         }\n",
    "                        )\n",
    "\n",
    "\n",
    "# Delete a document from a collection\n",
    "db.classroom.delete_one(\n",
    "    {'name': 'Ahmed'}\n",
    ")"
   ]
  },
  {
   "cell_type": "code",
   "execution_count": null,
   "metadata": {},
   "outputs": [],
   "source": []
  },
  {
   "cell_type": "code",
   "execution_count": null,
   "metadata": {},
   "outputs": [],
   "source": []
  },
  {
   "cell_type": "markdown",
   "metadata": {},
   "source": [
    "# B1 - Student Turn -- RedditScrape\n",
    "\n"
   ]
  },
  {
   "cell_type": "markdown",
   "metadata": {},
   "source": [
    "# Reddit Scraper\n",
    "\n",
    "## Instructions\n",
    "\n",
    "* In this activity, you will scrape the Programmer-Humor.html file provided\n",
    "\n",
    "* Use Beautiful Soup to scrape only threads that have two or more comments, then print the thread's title, number of comments, and the URL to the thread.\n",
    "\n",
    "## Bonus\n",
    "\n",
    "* If you finish early, try to display each thread's top comment in your output!"
   ]
  },
  {
   "cell_type": "code",
   "execution_count": null,
   "metadata": {},
   "outputs": [],
   "source": [
    "# Dependencies\n",
    "from bs4 import BeautifulSoup\n",
    "import requests\n",
    "import os"
   ]
  },
  {
   "cell_type": "code",
   "execution_count": null,
   "metadata": {},
   "outputs": [],
   "source": [
    "filepath = os.path.join(\"Programmer-Humor.html\")\n",
    "with open(filepath, encoding='utf-8') as file:\n",
    "    html = file.read()"
   ]
  },
  {
   "cell_type": "code",
   "execution_count": null,
   "metadata": {},
   "outputs": [],
   "source": [
    "# Create BeautifulSoup object; parse with 'html.parser'\n",
    "soup = BeautifulSoup(html, 'html.parser')"
   ]
  },
  {
   "cell_type": "code",
   "execution_count": null,
   "metadata": {},
   "outputs": [],
   "source": [
    "soup"
   ]
  },
  {
   "cell_type": "code",
   "execution_count": null,
   "metadata": {},
   "outputs": [],
   "source": [
    "# Find the number of subscribers\n",
    "number_subscribers = soup.find(\"span\", class_='subscribers').\\\n",
    "    find('span', class_='number').text\n",
    "print(f\"The number of subscribers: {number_subscribers}\")"
   ]
  },
  {
   "cell_type": "code",
   "execution_count": null,
   "metadata": {},
   "outputs": [],
   "source": [
    "# Examine the results, then determine element that contains sought info\n",
    "# results are returned as an iterable list\n",
    "results = soup.find_all('div', class_='top-matter')"
   ]
  },
  {
   "cell_type": "code",
   "execution_count": null,
   "metadata": {},
   "outputs": [],
   "source": [
    "# Loop through returned results\n",
    "for result in results:\n",
    "    \n",
    "    # Retrieve the thread title\n",
    "    title = result.find('p', class_='title')\n",
    "    \n",
    "    \n",
    "    # Access the thread's text content\n",
    "    title_text = title.a.text\n",
    "#     print(title_text)\n",
    "\n",
    "    try:\n",
    "        # Access the thread with CSS selectors\n",
    "        thread = result.find('li', class_='first')    \n",
    "\n",
    "        # The number of comments made in the thread\n",
    "        comments = thread.text.lstrip()\n",
    "\n",
    "        # Parse string, e.g. '47 comments' for possible numeric manipulation\n",
    "        comments_num = int(comments.split()[0])\n",
    "\n",
    "        # Access the href attribute with bracket notation\n",
    "        link = thread.a['href']\n",
    "\n",
    "        # Run if the thread has comments\n",
    "        if (comments_num):\n",
    "            print('\\n-----------------\\n')\n",
    "            print(title_text)\n",
    "            print('Comments:', comments_num)\n",
    "            print(link)\n",
    "    except AttributeError as e:\n",
    "        print(e)"
   ]
  },
  {
   "cell_type": "markdown",
   "metadata": {},
   "source": [
    "# B2 - Instructor Turn -- Craigslist\n",
    "\n"
   ]
  },
  {
   "cell_type": "code",
   "execution_count": null,
   "metadata": {},
   "outputs": [],
   "source": [
    "# Dependencies\n",
    "from bs4 import BeautifulSoup\n",
    "import requests\n",
    "\n",
    "# URL of page to be scraped\n",
    "url = 'https://newjersey.craigslist.org/search/sss?sort=rel&query=guitar'\n",
    "\n",
    "# Retrieve page with the requests module\n",
    "response = requests.get(url)\n",
    "\n",
    "# Create BeautifulSoup object; parse with 'html.parser'\n",
    "soup = BeautifulSoup(response.text, 'html.parser')\n",
    "\n",
    "# Examine the results, then determine element that contains sought info\n",
    "print(soup.prettify())"
   ]
  },
  {
   "cell_type": "code",
   "execution_count": null,
   "metadata": {},
   "outputs": [],
   "source": [
    "# results are returned as an iterable list\n",
    "results = soup.find_all('li', class_=\"result-row\")"
   ]
  },
  {
   "cell_type": "code",
   "execution_count": null,
   "metadata": {},
   "outputs": [],
   "source": [
    " Loop through returned results\n",
    "for result in results:\n",
    "    # Error handling\n",
    "    try:\n",
    "        # Identify and return title of listing\n",
    "        title = result.find('a', class_=\"result-title\").text\n",
    "        # Identify and return price of listing\n",
    "        price = result.a.span.text\n",
    "        # Identify and return link to listing\n",
    "        link = result.a['href']\n",
    "\n",
    "        # Print results only if title, price, and link are available\n",
    "        if (title and price and link):\n",
    "            print('-------------')\n",
    "            print(title)\n",
    "            print(price)\n",
    "            print(link)\n",
    "    except AttributeError as e:\n",
    "        print(e)"
   ]
  },
  {
   "cell_type": "markdown",
   "metadata": {},
   "source": [
    "# B3 - Student Turn -- HockeyHeaders\n",
    "\n"
   ]
  },
  {
   "cell_type": "markdown",
   "metadata": {},
   "source": [
    "# Hockey Headers\n",
    "\n",
    "Teamwork! Speed! Mental and physical toughness! Passion! Excitement! Unpredictable matchups down to the wire! What could be better? While these terms could easily be applied to a data science hackathon, we're talking about the magnificent sport of hockey.\n",
    "\n",
    "Your assignment is to scrape the articles on the news page of the NHL website - which is frequently updated - and then post the results of your scraping to MongoDB.\n",
    "\n",
    "## Instructions\n",
    "\n",
    "* Use Beautiful Soup and requests to scrape the header and subheader of each article on the news page.\n",
    "\n",
    "* Post the above information as a MongoDB document and then print all of the documents on the database to the console.\n",
    "\n",
    "* In addition to the above, post the date of the article publication as well."
   ]
  },
  {
   "cell_type": "code",
   "execution_count": null,
   "metadata": {},
   "outputs": [],
   "source": [
    "# Dependencies\n",
    "from bs4 import BeautifulSoup\n",
    "import requests\n",
    "import pymongo"
   ]
  },
  {
   "cell_type": "code",
   "execution_count": null,
   "metadata": {},
   "outputs": [],
   "source": [
    "# Initialize PyMongo to work with MongoDBs\n",
    "conn = 'mongodb://localhost:27017'\n",
    "client = pymongo.MongoClient(conn)"
   ]
  },
  {
   "cell_type": "code",
   "execution_count": null,
   "metadata": {},
   "outputs": [],
   "source": [
    "# Define database and collection\n",
    "db = client.nhl_db\n",
    "collection = db.articles"
   ]
  },
  {
   "cell_type": "code",
   "execution_count": null,
   "metadata": {},
   "outputs": [],
   "source": [
    "# Retrieve the parent divs for all articles\n",
    "results = soup.find_all('div', class_='article-item__top')\n",
    "\n",
    "# loop over results to get article data\n",
    "for result in results:\n",
    "    # scrape the article header \n",
    "    header = result.find('h1', class_='article-item__headline').text\n",
    "    \n",
    "    # scrape the article subheader\n",
    "    subheader = result.find('h2', class_='article-item__subheader').text\n",
    "    \n",
    "    # scrape the datetime\n",
    "    datetime = result.find('span', class_='article-item__date')['data-date'] \n",
    "    \n",
    "    # get only the date from the datetime\n",
    "    date = datetime.split('T')[0]\n",
    "    \n",
    "    # print article data\n",
    "    print('-----------------')\n",
    "    print(header)\n",
    "    print(subheader)\n",
    "    print(date)\n",
    "\n",
    "    # Dictionary to be inserted into MongoDB\n",
    "    post = {\n",
    "        'header': header,\n",
    "        'subheader': subheader,\n",
    "        'date': date,\n",
    "    }\n",
    "\n",
    "    # Insert dictionary into MongoDB as a document\n",
    "    collection.insert_one(post)"
   ]
  },
  {
   "cell_type": "code",
   "execution_count": null,
   "metadata": {},
   "outputs": [],
   "source": [
    "# Display the MongoDB records created above\n",
    "articles = db.articles.find()\n",
    "for article in articles:\n",
    "    print(article)"
   ]
  },
  {
   "cell_type": "markdown",
   "metadata": {},
   "source": [
    "# B4 - Instructor Turn -- MongoScraping\n",
    "\n"
   ]
  },
  {
   "cell_type": "code",
   "execution_count": null,
   "metadata": {},
   "outputs": [],
   "source": [
    "# Dependencies\n",
    "from bs4 import BeautifulSoup\n",
    "import requests\n",
    "import pymongo"
   ]
  },
  {
   "cell_type": "code",
   "execution_count": null,
   "metadata": {},
   "outputs": [],
   "source": [
    "# Initialize PyMongo to work with MongoDBs\n",
    "conn = 'mongodb://localhost:27017'\n",
    "client = pymongo.MongoClient(conn)"
   ]
  },
  {
   "cell_type": "code",
   "execution_count": null,
   "metadata": {},
   "outputs": [],
   "source": [
    "# Define database and collection\n",
    "db = client.craigslist_db\n",
    "collection = db.items"
   ]
  },
  {
   "cell_type": "code",
   "execution_count": null,
   "metadata": {},
   "outputs": [],
   "source": [
    "url = 'https://newjersey.craigslist.org/search/sss?sort=rel&query=guitar'\n",
    "\n",
    "# Retrieve page with the requests module\n",
    "response = requests.get(url)\n",
    "# Create BeautifulSoup object; parse with 'lxml'\n",
    "soup = BeautifulSoup(response.text, 'lxml')"
   ]
  },
  {
   "cell_type": "code",
   "execution_count": null,
   "metadata": {},
   "outputs": [],
   "source": [
    "# Examine the results, then determine element that contains sought info\n",
    "# results are returned as an iterable list\n",
    "results = soup.find_all('li', class_='result-row')\n",
    "\n",
    "# Loop through returned results\n",
    "for result in results:\n",
    "    # Error handling\n",
    "    try:\n",
    "        # Identify and return title of listing\n",
    "        title = result.find('a', class_='result-title').text\n",
    "        # Identify and return price of listing\n",
    "        price = result.a.span.text\n",
    "        # Identify and return link to listing\n",
    "        link = result.a['href']\n",
    "\n",
    "        # Run only if title, price, and link are available\n",
    "        if (title and price and link):\n",
    "            # Print results\n",
    "            print('-------------')\n",
    "            print(title)\n",
    "            print(price)\n",
    "            print(link)\n",
    "\n",
    "            # Dictionary to be inserted as a MongoDB document\n",
    "            post = {\n",
    "                'title': title,\n",
    "                'price': price,\n",
    "                'url': link\n",
    "            }\n",
    "\n",
    "            collection.insert_one(post)\n",
    "\n",
    "    except Exception as e:\n",
    "        print(e)"
   ]
  },
  {
   "cell_type": "code",
   "execution_count": null,
   "metadata": {},
   "outputs": [],
   "source": [
    "# Display items in MongoDB collection\n",
    "listings = db.items.find()\n",
    "\n",
    "for listing in listings:\n",
    "    print(listing)"
   ]
  },
  {
   "cell_type": "markdown",
   "metadata": {},
   "source": [
    "# B5 - Student Turn -- Splinter\n",
    "\n"
   ]
  },
  {
   "cell_type": "markdown",
   "metadata": {},
   "source": [
    "# Bookscraper\n",
    "\n",
    "## Instructions\n",
    "\n",
    "* Go to <http://books.toscrape.com/>\n",
    "\n",
    "* Scrape the titles and the URLs to all books on this fictional online bookstore. Display the results in console.\n",
    "\n",
    "* That's it!\n",
    "\n",
    "* If you're craving extra challenge, try scraping all books by **category**. Good luck!"
   ]
  },
  {
   "cell_type": "code",
   "execution_count": null,
   "metadata": {},
   "outputs": [],
   "source": [
    "from splinter import Browser\n",
    "from bs4 import BeautifulSoup"
   ]
  },
  {
   "cell_type": "markdown",
   "metadata": {},
   "source": [
    "# Mac Users"
   ]
  },
  {
   "cell_type": "code",
   "execution_count": null,
   "metadata": {},
   "outputs": [],
   "source": [
    "executable_path = {'executable_path': '/usr/local/bin/chromedriver'}\n",
    "browser = Browser('chrome', **executable_path, headless=False)"
   ]
  },
  {
   "cell_type": "markdown",
   "metadata": {},
   "source": [
    "# PC Users"
   ]
  },
  {
   "cell_type": "code",
   "execution_count": null,
   "metadata": {},
   "outputs": [],
   "source": [
    "# executable_path = {'executable_path': 'chromedriver.exe'}\n",
    "# browser = Browser('chrome', **executable_path, headless=False)"
   ]
  },
  {
   "cell_type": "code",
   "execution_count": null,
   "metadata": {},
   "outputs": [],
   "source": [
    "url = 'http://books.toscrape.com/'\n",
    "browser.visit(url)"
   ]
  },
  {
   "cell_type": "code",
   "execution_count": null,
   "metadata": {},
   "outputs": [],
   "source": [
    "# Iterate through all pages\n",
    "for x in range(50):\n",
    "    # HTML object\n",
    "    html = browser.html\n",
    "    # Parse HTML with Beautiful Soup\n",
    "    soup = BeautifulSoup(html, 'html.parser')\n",
    "    # Retrieve all elements that contain book information\n",
    "    articles = soup.find_all('article', class_='product_pod')\n",
    "\n",
    "    # Iterate through each book\n",
    "    for article in articles:\n",
    "        # Use Beautiful Soup's find() method to navigate and retrieve attributes\n",
    "        h3 = article.find('h3')\n",
    "        link = h3.find('a')\n",
    "        href = link['href']\n",
    "        title = link['title']\n",
    "        print('-----------')\n",
    "        print(title)\n",
    "        print('http://books.toscrape.com/' + href)\n",
    "\n",
    "    # Click the 'Next' button on each page\n",
    "    try:\n",
    "        browser.click_link_by_partial_text('next')\n",
    "          \n",
    "    except:\n",
    "        print(\"Scraping Complete\")"
   ]
  },
  {
   "cell_type": "markdown",
   "metadata": {},
   "source": [
    "# B6 -Instructor Turn -- Splinter\n",
    "\n"
   ]
  },
  {
   "cell_type": "code",
   "execution_count": null,
   "metadata": {},
   "outputs": [],
   "source": [
    "from splinter import Browser\n",
    "from bs4 import BeautifulSoup"
   ]
  },
  {
   "cell_type": "code",
   "execution_count": null,
   "metadata": {},
   "outputs": [],
   "source": [
    "# https://splinter.readthedocs.io/en/latest/drivers/chrome.html\n",
    "!which chromedriver"
   ]
  },
  {
   "cell_type": "markdown",
   "metadata": {},
   "source": [
    "# Mac Users "
   ]
  },
  {
   "cell_type": "code",
   "execution_count": null,
   "metadata": {},
   "outputs": [],
   "source": [
    "executable_path = {'executable_path': '/usr/local/bin/chromedriver'}\n",
    "browser = Browser('chrome', **executable_path, headless=False)"
   ]
  },
  {
   "cell_type": "markdown",
   "metadata": {},
   "source": [
    "# PC Users"
   ]
  },
  {
   "cell_type": "code",
   "execution_count": null,
   "metadata": {},
   "outputs": [],
   "source": [
    "# executable_path = {'executable_path': 'chromedriver.exe'}\n",
    "# browser = Browser('chrome', **executable_path, headless=False)"
   ]
  },
  {
   "cell_type": "code",
   "execution_count": null,
   "metadata": {},
   "outputs": [],
   "source": [
    "url = 'http://quotes.toscrape.com/'\n",
    "browser.visit(url)"
   ]
  },
  {
   "cell_type": "code",
   "execution_count": null,
   "metadata": {},
   "outputs": [],
   "source": [
    "for x in range(1, 6):\n",
    "\n",
    "    html = browser.html\n",
    "    soup = BeautifulSoup(html, 'html.parser')\n",
    "\n",
    "    quotes = soup.find_all('span', class_='text')\n",
    "\n",
    "    for quote in quotes:\n",
    "        print('page:', x, '-------------')\n",
    "        print(quote.text)\n",
    "\n",
    "    browser.click_link_by_partial_text('Next')\n"
   ]
  },
  {
   "cell_type": "code",
   "execution_count": null,
   "metadata": {},
   "outputs": [],
   "source": []
  },
  {
   "cell_type": "code",
   "execution_count": null,
   "metadata": {},
   "outputs": [],
   "source": []
  },
  {
   "cell_type": "code",
   "execution_count": null,
   "metadata": {},
   "outputs": [],
   "source": []
  },
  {
   "cell_type": "markdown",
   "metadata": {},
   "source": [
    "# C1 - Student Turn -- MyFirst_HTML\n",
    "\n"
   ]
  },
  {
   "cell_type": "markdown",
   "metadata": {},
   "source": [
    "\n",
    "### Instructions\n",
    "\n",
    "In a new HTML file, create the basic structure of an HTML document and include in it the following:\n",
    "\n",
    "1. `DOCTYPE` declaration\n",
    "\n",
    "2. `head` tag with nested `title` tag\n",
    "\n",
    "3. `h1` tag with a title of your choice\n",
    "\n",
    "4. Embed an image\n",
    "\n",
    "5. Create the following three links on your page:\n",
    "\n",
    "   1. One link that leads to the website of your choice. Give this link an attribute `target=\"_blank\"` so that it opens a new tab when clicked.\n",
    "\n",
    "   2. Create a second link to a different website, but give this link bold text.\n",
    "\n",
    "   3. Make the third link a placeholder so it goes nowhere.\n",
    "\n",
    "HINT: You should be checking the rendered HTML in Chrome as you code to make sure you're going in the right direction.\n",
    "\n",
    "### Bonus\n",
    "\n",
    "* Create an ordered list of steps to make a sandwich.\n",
    "\n",
    "* Create an unordered list of 5 bands/musicians you like.\n",
    "\n",
    "* Use an alternate way of separating links without line breaks.\n",
    "\n",
    "* Embed a YouTube video of your favorite band/musician.\n"
   ]
  },
  {
   "cell_type": "markdown",
   "metadata": {},
   "source": [
    "```html\n",
    "<!DOCTYPE html>\n",
    "<html lang=\"en-us\">\n",
    "\n",
    "<head>\n",
    "  <meta charset=\"UTF-8\">\n",
    "  <title>My First Page</title>\n",
    "</head>\n",
    "\n",
    "<body>\n",
    "  <!-- Header -->\n",
    "  <h1>Hello World!</h1>\n",
    "\n",
    "  <!-- Image -->\n",
    "  <img src=\"http://en.spongepedia.org/images/thumb/3/33/Spongebob!!!.jpg/180px-Spongebob!!!.jpg\" alt=\"Spongebob!\" />\n",
    "  <br>\n",
    "\n",
    "  <!-- Link with New Tab -->\n",
    "  <a href=\"https://www.google.com\" target=\"_blank\">Opens new tab</a>\n",
    "  <br>\n",
    "\n",
    "  <!-- Bold Link -->\n",
    "  <strong><a href=\"https://www.youtube.com\">This is a bold link</a></strong>\n",
    "  <br>\n",
    "\n",
    "  <!-- Placeholder link -->\n",
    "  <a href=\"#\">This is placeholder link goes nowhere, for now</a>\n",
    "\n",
    "</body>\n",
    "\n",
    "</html>\n",
    "```"
   ]
  },
  {
   "cell_type": "code",
   "execution_count": null,
   "metadata": {},
   "outputs": [],
   "source": []
  },
  {
   "cell_type": "markdown",
   "metadata": {},
   "source": [
    "# C2 - Student Turn -- Render_String\n",
    "\n"
   ]
  },
  {
   "cell_type": "markdown",
   "metadata": {},
   "source": [
    "# Rendering a Homepage\n",
    "\n",
    "## Instructions\n",
    "\n",
    "* In `app.py`, create a home route that returns `name` and `hobby` variables.\n",
    "\n",
    "* In `index.html`, create a header with a welcome message that incorporates the `name` variable and a paragraph that displays the `hobby` variable returned from the back end.\n",
    "\n",
    "## Bonus\n",
    "\n",
    "* Create a `bonus.html` page and a link to it in `index.html`. In `bonus.html`, add a link back to the home page.\n",
    "\n",
    "* Create a new route in `app.py` that will route users to `bonus.html` and will return both `name` and `hobby` from the back end.\n",
    "\n",
    "\n",
    "## Hints\n",
    "\n",
    "* Consult the [Flask Render Docs](http://flask.pocoo.org/docs/0.12/quickstart/#rendering-templates) for reference."
   ]
  },
  {
   "cell_type": "markdown",
   "metadata": {},
   "source": [
    "```python\n",
    "# import necessary libraries\n",
    "from flask import Flask, render_template\n",
    "\n",
    "# create instance of Flask app\n",
    "app = Flask(__name__)\n",
    "\n",
    "# Set variables\n",
    "name = \"Aaron\"\n",
    "hobby = \"Baseball\"\n",
    "\n",
    "\n",
    "# create route that renders index.html template\n",
    "@app.route(\"/\")\n",
    "def echo():\n",
    "\n",
    "    return render_template(\"index.html\", name=name, hobby=hobby)\n",
    "\n",
    "\n",
    "# Bonus add a new route\n",
    "@app.route(\"/bonus\")\n",
    "def bonus():\n",
    "\n",
    "    return render_template(\"bonus.html\", name=name, hobby=hobby)\n",
    "\n",
    "\n",
    "if __name__ == \"__main__\":\n",
    "    app.run(debug=True)\n",
    "\n",
    "\n",
    "```"
   ]
  },
  {
   "cell_type": "markdown",
   "metadata": {},
   "source": [
    "# index.html\n",
    "```html\n",
    "<!DOCTYPE html>\n",
    "<html lang=\"en\">\n",
    "\n",
    "<head>\n",
    "  <meta charset=\"UTF-8\">\n",
    "  <meta name=\"viewport\" content=\"width=device-width, initial-scale=1.0\">\n",
    "  <meta http-equiv=\"X-UA-Compatible\" content=\"ie=edge\">\n",
    "  <title>Templates 101</title>\n",
    "  <link rel=\"stylesheet\" href=\"https://maxcdn.bootstrapcdn.com/bootstrap/3.3.7/css/bootstrap.min.css\">\n",
    "</head>\n",
    "\n",
    "<body>\n",
    "  <div class=\"container\">\n",
    "\n",
    "    <div class=\"jumbotron text-center\">\n",
    "      \n",
    "      <!-- Add Welcome message with name and hobby served from backend -->\n",
    "      <h1>Welcome {{ name }}</h1>\n",
    "      <p>{{ hobby }} sounds like a lot of fun!</p>\n",
    "\n",
    "    </div>\n",
    "    \n",
    "    <!-- Add link to bonus -->\n",
    "    <p> Click <a href=\"bonus\">here</a> to visit my bonus page!</p>\n",
    "\n",
    "  </div>\n",
    "</body>\n",
    "\n",
    "</html>\n",
    "```"
   ]
  },
  {
   "cell_type": "markdown",
   "metadata": {},
   "source": [
    "# C3 - Instructor Turn -- Render_String\n",
    "\n"
   ]
  },
  {
   "cell_type": "markdown",
   "metadata": {},
   "source": [
    "# app.py\n",
    "```python\n",
    "# import necessary libraries\n",
    "from flask import Flask, render_template\n",
    "\n",
    "# create instance of Flask app\n",
    "app = Flask(__name__)\n",
    "\n",
    "\n",
    "# create route that renders index.html template\n",
    "@app.route(\"/\")\n",
    "def echo():\n",
    "    return render_template(\"index.html\", text=\"Serving up cool text from the Flask server!!\")\n",
    "\n",
    "\n",
    "if __name__ == \"__main__\":\n",
    "    app.run(debug=True)\n",
    "\n",
    "```"
   ]
  },
  {
   "cell_type": "code",
   "execution_count": null,
   "metadata": {},
   "outputs": [],
   "source": []
  },
  {
   "cell_type": "code",
   "execution_count": null,
   "metadata": {},
   "outputs": [],
   "source": []
  },
  {
   "cell_type": "markdown",
   "metadata": {},
   "source": [
    "# C4 - Student Turn -- Render_List_and_Dictionary\n",
    "\n"
   ]
  },
  {
   "cell_type": "markdown",
   "metadata": {},
   "source": [
    "# Smart Pet Adoption\n",
    "\n",
    "## Instructions\n",
    "\n",
    "* In app.py there are the following:\n",
    "    * `shelter_stats` is a dictionary containing statistics of animals up for adoption at a shelter,\n",
    "    * `animals` is a list of animal types found at the shelter, \n",
    "    * `featured_pets` is a list of dictionaries of featured animals up for adoption.\n",
    "\n",
    "* In the provided template `index.html`, render the dictionary of shelter statistics in the empty `span` tags\n",
    "\n",
    "* Then render the list of animal types found at the shelter using `li` tags\n",
    "\n",
    "* Finally, render the list of featured pets, displaying their name and animal type. Use an `li` tag for each featured pet, displaying their name and pet type."
   ]
  },
  {
   "cell_type": "markdown",
   "metadata": {},
   "source": [
    "# app.py\n",
    "```python\n",
    "# import necessary libraries\n",
    "from flask import Flask, render_template\n",
    "\n",
    "# create instance of Flask app\n",
    "app = Flask(__name__)\n",
    "\n",
    "# shelter statistics\n",
    "shelter_stats = {\n",
    "    \"pets_adopted\":120,\n",
    "    \"pets_for_adoption\":20\n",
    "}\n",
    "\n",
    "# List of animal types at the shelter\n",
    "pet_types = [\"Cats\",\"Dogs\",\"Rabbits\",\"Alpacas\"]\n",
    "\n",
    "# List of dictionaries\n",
    "featured_pets = [{\"name\": \"Fido\", \"type\": \"dog\"},\n",
    "                 {\"name\": \"Rex\", \"type\": \"cat\"},\n",
    "                 {\"name\": \"Suzy\", \"type\": \"rabbit\"},\n",
    "                 {\"name\": \"Tomato\", \"type\": \"alpaca\"}]\n",
    "\n",
    "# create route that renders index.html template\n",
    "@app.route(\"/\")\n",
    "def index():\n",
    "\n",
    "    return render_template(\"index.html\", stats=shelter_stats, types=pet_types, featured=featured_pets)\n",
    "\n",
    "\n",
    "if __name__ == \"__main__\":\n",
    "    app.run(debug=True)\n",
    "```\n"
   ]
  },
  {
   "cell_type": "markdown",
   "metadata": {},
   "source": [
    "# index.html\n",
    "```html\n",
    "<!DOCTYPE html>\n",
    "<html lang=\"en\">\n",
    "\n",
    "<head>\n",
    "  <meta charset=\"UTF-8\">\n",
    "  <meta name=\"viewport\" content=\"width=device-width, initial-scale=1.0\">\n",
    "  <meta http-equiv=\"X-UA-Compatible\" content=\"ie=edge\">\n",
    "  <title>Animal Adoption!</title>\n",
    "  <link rel=\"stylesheet\" href=\"https://maxcdn.bootstrapcdn.com/bootstrap/3.3.7/css/bootstrap.min.css\">\n",
    "</head>\n",
    "\n",
    "<body>\n",
    "  <div class=\"container text-center\">\n",
    "    <h1 class=\"jumbotron\">Adopt!</h1>\n",
    "    <div>\n",
    "      <p>\n",
    "        We've adopted <span>{{stats.pets_adopted}}</span> pets this year!\n",
    "      </p>\n",
    "      <p>\n",
    "        But there are still <span>{{stats.pets_for_adoption}}</span> pets available to be adopted!\n",
    "      </p>\n",
    "      <p>We have the following pet types</p>\n",
    "      <ul style=\"list-style: none;\">\n",
    "\n",
    "      <!-- Loop through the list of pet types -->\n",
    "      {% for type in types %}\n",
    "      <li>{{type}}</li>\n",
    "      {% endfor %}\n",
    "\n",
    "      </ul>\n",
    "      <ul style=\"list-style: none;\">\n",
    "\n",
    "        <!-- Loop through the featured pets -->\n",
    "      {% for pet in featured %}\n",
    "      <li>{{pet.name}} is a {{pet.type}} available for adoption</li>\n",
    "      {% endfor %}\n",
    "\n",
    "      </ul>\n",
    "    </div>\n",
    "  </div>\n",
    "</body>\n",
    "\n",
    "</html>\n",
    "\n",
    "```"
   ]
  },
  {
   "cell_type": "markdown",
   "metadata": {},
   "source": [
    "# C5 - Instructor Turn -- Render_List\n",
    "\n"
   ]
  },
  {
   "cell_type": "markdown",
   "metadata": {},
   "source": [
    "```python\n",
    "# import necessary libraries\n",
    "from flask import Flask, render_template\n",
    "\n",
    "# create instance of Flask app\n",
    "app = Flask(__name__)\n",
    "\n",
    "\n",
    "# create route that renders index.html template\n",
    "@app.route(\"/\")\n",
    "def index():\n",
    "    team_list = [\"Jumpers\", \"Dunkers\", \"Dribblers\", \"Passers\"]\n",
    "    return render_template(\"index.html\", list=team_list)\n",
    "\n",
    "\n",
    "if __name__ == \"__main__\":\n",
    "    app.run(debug=True)\n",
    "\n",
    "```"
   ]
  },
  {
   "cell_type": "markdown",
   "metadata": {},
   "source": [
    "```html\n",
    "<!DOCTYPE html>\n",
    "<html lang=\"en\">\n",
    "\n",
    "<head>\n",
    "  <meta charset=\"UTF-8\">\n",
    "  <meta name=\"viewport\" content=\"width=device-width, initial-scale=1.0\">\n",
    "  <meta http-equiv=\"X-UA-Compatible\" content=\"ie=edge\">\n",
    "  <title>Teams!</title>\n",
    "  <link rel=\"stylesheet\" href=\"https://maxcdn.bootstrapcdn.com/bootstrap/3.3.7/css/bootstrap.min.css\">\n",
    "</head>\n",
    "\n",
    "<body>\n",
    "  <div class=\"container text-center\">\n",
    "    <h1 class=\"jumbotron\">Team Rosters</h1>\n",
    "    <div>\n",
    "      <ul style=\"list-style: none;\">\n",
    "\n",
    "          {% for name in list %}\n",
    "          <li>{{ name }}</li>\n",
    "          {% endfor %}\n",
    "          \n",
    "      </ul>\n",
    "    </div>\n",
    "  </div>\n",
    "</body>\n",
    "\n",
    "</html>\n",
    "```"
   ]
  },
  {
   "cell_type": "code",
   "execution_count": null,
   "metadata": {},
   "outputs": [],
   "source": []
  },
  {
   "cell_type": "markdown",
   "metadata": {},
   "source": [
    "# C6 - Instructor Turn -- Render_Dict"
   ]
  },
  {
   "cell_type": "markdown",
   "metadata": {},
   "source": [
    "# flask app -- app.py"
   ]
  },
  {
   "cell_type": "markdown",
   "metadata": {},
   "source": [
    "```python\n",
    "# import necessary libraries\n",
    "from flask import Flask, render_template\n",
    "\n",
    "# create instance of Flask app\n",
    "app = Flask(__name__)\n",
    "\n",
    "\n",
    "# create route that renders index.html template\n",
    "@app.route(\"/\")\n",
    "def index():\n",
    "    player_dictionary = {\"player_1\": \"Jessica\",\n",
    "                         \"player_2\": \"Mark\"}\n",
    "    return render_template(\"index.html\", dict=player_dictionary)\n",
    "\n",
    "\n",
    "if __name__ == \"__main__\":\n",
    "    app.run(debug=True)\n",
    "```"
   ]
  },
  {
   "cell_type": "markdown",
   "metadata": {},
   "source": [
    "# index.html"
   ]
  },
  {
   "cell_type": "markdown",
   "metadata": {},
   "source": [
    "```html\n",
    "<!DOCTYPE html>\n",
    "<html lang=\"en\">\n",
    "\n",
    "<head>\n",
    "  <meta charset=\"UTF-8\">\n",
    "  <meta name=\"viewport\" content=\"width=device-width, initial-scale=1.0\">\n",
    "  <meta http-equiv=\"X-UA-Compatible\" content=\"ie=edge\">\n",
    "  <title>Sports!</title>\n",
    "  <link rel=\"stylesheet\" href=\"https://maxcdn.bootstrapcdn.com/bootstrap/3.3.7/css/bootstrap.min.css\">\n",
    "</head>\n",
    "\n",
    "<body>\n",
    "  <div class=\"container text-center\">\n",
    "    <h1 class=\"jumbotron\">Player Roster</h1>\n",
    "    <div>\n",
    "      <ul style=\"list-style: none;\">\n",
    "        <li>{{ dict.player_1 }}</li>\n",
    "        <li>{{ dict.player_2 }}</li>\n",
    "      </ul>\n",
    "    </div>\n",
    "  </div>\n",
    "</body>\n",
    "\n",
    "</html>\n",
    "\n",
    "```"
   ]
  },
  {
   "cell_type": "code",
   "execution_count": null,
   "metadata": {},
   "outputs": [],
   "source": []
  }
 ],
 "metadata": {
  "kernelspec": {
   "display_name": "Python 3",
   "language": "python",
   "name": "python3"
  },
  "language_info": {
   "codemirror_mode": {
    "name": "ipython",
    "version": 3
   },
   "file_extension": ".py",
   "mimetype": "text/x-python",
   "name": "python",
   "nbconvert_exporter": "python",
   "pygments_lexer": "ipython3",
   "version": "3.7.6"
  }
 },
 "nbformat": 4,
 "nbformat_minor": 4
}
